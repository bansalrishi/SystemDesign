{
 "cells": [
  {
   "cell_type": "markdown",
   "metadata": {},
   "source": [
    "# Twitter Design"
   ]
  },
  {
   "cell_type": "markdown",
   "metadata": {},
   "source": [
    "## Requirements/Assumptions\n",
    "1. User Login\n",
    "2. User can follow\n",
    "3. User can tweet\n",
    "4. User can re-tweet\n",
    "5. Verified Users\n",
    "6. Tagging user\n",
    "7. Search Tweets\n",
    "8. User Timeline\n",
    "9. Home timeline\n",
    "10. Trending Hastag\n",
    "11. Notifications\n",
    "12. Limit on Words (140)"
   ]
  },
  {
   "cell_type": "markdown",
   "metadata": {},
   "source": [
    "## Data Usage\n",
    "1. Total users = 300M\n",
    "2. Active Users = 50M\n",
    "3. Write_Req: 5M/day\n",
    "4. read Req: 100 Times * Write = 500 M/day\n",
    "\n",
    "### Data Storage\n",
    "1. User Data (Preferences, Profile)\n",
    "* Image- 50KB ( Total Size 300M = 15 TB)\n",
    "* 10KB Profile data (Total Size 300M = 3 TB)\n",
    "\n",
    "2. Tweet Data\n",
    "* 140 (4 Byte Max) = 560 Byte (0.5 KB)\n",
    "* 5M Tweets - 2.5 GB/Day\n",
    "* 1 TB/Year\n",
    "\n"
   ]
  },
  {
   "cell_type": "markdown",
   "metadata": {},
   "source": [
    "## Components\n",
    "1. Profile Server\n",
    "2. Tweets Server\n",
    "3. Notification Service\n",
    "4. DB - User Profile\n",
    "5. DB - Tweets\n",
    "6. hastag Service\n",
    "7. Search Service\n",
    "8. Rest API"
   ]
  },
  {
   "cell_type": "code",
   "execution_count": null,
   "metadata": {},
   "outputs": [],
   "source": []
  }
 ],
 "metadata": {
  "kernelspec": {
   "display_name": "Python 3",
   "language": "python",
   "name": "python3"
  },
  "language_info": {
   "codemirror_mode": {
    "name": "ipython",
    "version": 3
   },
   "file_extension": ".py",
   "mimetype": "text/x-python",
   "name": "python",
   "nbconvert_exporter": "python",
   "pygments_lexer": "ipython3",
   "version": "3.8.5"
  }
 },
 "nbformat": 4,
 "nbformat_minor": 4
}
