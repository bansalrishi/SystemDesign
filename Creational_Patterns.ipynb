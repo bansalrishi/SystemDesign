{
 "cells": [
  {
   "cell_type": "markdown",
   "id": "fcbfbca2",
   "metadata": {},
   "source": [
    "## Factory Pattern:\n",
    "\n",
    "* Define an Interface (or Abstract Class): Create an interface or an abstract base class that declares a factory method (or methods). This factory method will be responsible for creating objects.\n",
    "\n",
    "* Concrete Implementations: Create concrete subclasses that inherit from the interface or abstract class. Each concrete subclass should implement the factory method to create objects of a specific type.\n",
    "\n",
    "* Client Code: The client code that needs to create objects should use the factory method defined in the interface or abstract class. This way, the client code doesn't need to know the specific classes of objects it's creating.\n",
    "\n",
    "Sample Code:"
   ]
  },
  {
   "cell_type": "code",
   "execution_count": 1,
   "id": "2631b89b",
   "metadata": {},
   "outputs": [
    {
     "name": "stdout",
     "output_type": "stream",
     "text": [
      "Drawing a circle\n",
      "Drawing a rectangle\n"
     ]
    }
   ],
   "source": [
    "from abc import ABC, abstractmethod\n",
    "\n",
    "# Step 1: Define the interface (or abstract base class)\n",
    "class Shape(ABC):\n",
    "    @abstractmethod\n",
    "    def draw(self):\n",
    "        pass\n",
    "\n",
    "# Step 2: Create concrete implementations\n",
    "class Circle(Shape):\n",
    "    def draw(self):\n",
    "        print(\"Drawing a circle\")\n",
    "\n",
    "class Rectangle(Shape):\n",
    "    def draw(self):\n",
    "        print(\"Drawing a rectangle\")\n",
    "\n",
    "# Step 3: Client code\n",
    "def create_shape(shape_type):\n",
    "    if shape_type == \"circle\":\n",
    "        return Circle()\n",
    "    elif shape_type == \"rectangle\":\n",
    "        return Rectangle()\n",
    "    else:\n",
    "        raise ValueError(\"Invalid shape type\")\n",
    "\n",
    "# Client code can create objects without knowing the concrete classes\n",
    "circle = create_shape(\"circle\")\n",
    "rectangle = create_shape(\"rectangle\")\n",
    "\n",
    "circle.draw()     # Output: Drawing a circle\n",
    "rectangle.draw()  # Output: Drawing a rectangle\n"
   ]
  },
  {
   "cell_type": "markdown",
   "id": "fc30241a",
   "metadata": {},
   "source": [
    "In this example, Shape is the interface (or abstract base class) with a factory method draw. Two concrete subclasses, Circle and Rectangle, implement this factory method to create objects of their respective types. The create_shape function in the client code uses the factory method to create objects without knowing the specific classes of shapes being created.\n",
    "\n",
    "The Factory Method Pattern is useful for creating objects in a flexible and extensible way, especially when you anticipate that the types of objects you need to create may change or expand in the future."
   ]
  },
  {
   "cell_type": "code",
   "execution_count": null,
   "id": "1b655e00",
   "metadata": {},
   "outputs": [],
   "source": []
  }
 ],
 "metadata": {
  "kernelspec": {
   "display_name": "Python 3",
   "language": "python",
   "name": "python3"
  },
  "language_info": {
   "codemirror_mode": {
    "name": "ipython",
    "version": 3
   },
   "file_extension": ".py",
   "mimetype": "text/x-python",
   "name": "python",
   "nbconvert_exporter": "python",
   "pygments_lexer": "ipython3",
   "version": "3.8.8"
  }
 },
 "nbformat": 4,
 "nbformat_minor": 5
}
