{
 "cells": [
  {
   "cell_type": "markdown",
   "metadata": {},
   "source": [
    "## Scalability\n",
    "* if a server is not able to handle load or API calls\n",
    "* Horizontal and Vertical Scaling\n",
    "* Horizontal Scaling - more machines\n",
    "* Vertical Scaling - bigger machines\n"
   ]
  },
  {
   "cell_type": "markdown",
   "metadata": {},
   "source": [
    "### Horizontal Scaling\n",
    "1. Load Balancer is required\n",
    "2. Resilient\n",
    "3. Network calls(RPC- Remote Procedure Calls) - slow\n",
    "4. Data Inconsistency\n",
    "5. Scales well\n",
    "\n",
    "### Vertical Scaling\n",
    "1. No Load Balancer\n",
    "2. Single point of failure\n",
    "3. Interprocess communication - fast\n",
    "4. Consistent\n",
    "5. Hardware Limit\n",
    "\n",
    "**HyBrid**\n",
    "* Use Horizontal (2 & 5) and from vertical (3 & 4)"
   ]
  },
  {
   "cell_type": "code",
   "execution_count": null,
   "metadata": {},
   "outputs": [],
   "source": []
  }
 ],
 "metadata": {
  "kernelspec": {
   "display_name": "Python 3",
   "language": "python",
   "name": "python3"
  },
  "language_info": {
   "codemirror_mode": {
    "name": "ipython",
    "version": 3
   },
   "file_extension": ".py",
   "mimetype": "text/x-python",
   "name": "python",
   "nbconvert_exporter": "python",
   "pygments_lexer": "ipython3",
   "version": "3.8.5"
  }
 },
 "nbformat": 4,
 "nbformat_minor": 4
}
