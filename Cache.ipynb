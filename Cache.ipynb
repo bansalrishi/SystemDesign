{
 "cells": [
  {
   "cell_type": "markdown",
   "metadata": {},
   "source": [
    "### Consistent Caching\n",
    "\n",
    "1. Save network calls\n",
    "2. Avoid repeated computation (E.g: average age of users, store as key value)  \n",
    "3. Avoid DB load\n",
    "\n"
   ]
  },
  {
   "cell_type": "markdown",
   "metadata": {},
   "source": [
    "**Why Cant we store everything in cache**\n",
    "1. Cache hardware is very expensive (ssd)\n",
    "2. If we store too much data in cache it will become slow and the purpose will be defeated\n",
    "3. DB will have infinite information and Cache will have most relevant information according to request which will come in future(prediction)\n",
    "\n",
    "**How can we made prediction on what is going to come**\n",
    "1. When to make an entry in the Cache?\n",
    "2. When I need to clear the data from the Cache?  \n",
    "Ans: Cache Policy Decides this"
   ]
  },
  {
   "cell_type": "markdown",
   "metadata": {},
   "source": [
    "### Cache Policy\n",
    "* Cache performance depends on Cache Policy\n",
    "1. LRU (Least Recently Used)\n",
    "2. LFU (Least Frequently Used)\n",
    "3. Sliding Window based Policies\n"
   ]
  },
  {
   "cell_type": "markdown",
   "metadata": {},
   "source": [
    "**Impact of poor Cache Policy**\n",
    "* Everytime calls coming to cache and cache says it dont have the data\n",
    "1. Extra Calls\n",
    "2. Small cache size leads to Thrashing (frequent load and delete operation)\n",
    "3. Data consistency(data changed in DB)"
   ]
  },
  {
   "cell_type": "markdown",
   "metadata": {},
   "source": [
    "**What should be the location of Cache- Near to Database or Server**\n",
    "1. Scenario 1: Placed in Memory of Server \n",
    "* Disadv: If Server1 fails, all cache go with it\n",
    "* Consistency between two Servers Server1 and Server2. They may have different copy of e.g: Profile\n",
    "* Benefits: Faster\n",
    "\n",
    "2. Scenarion 2: Global Cache\n",
    "* E.g: Redis\n",
    "* no impact of server failure\n",
    "* bit slow but more accurate due to consistency\n",
    "* Can scale this cache without bringing down the services on servers"
   ]
  },
  {
   "cell_type": "markdown",
   "metadata": {},
   "source": [
    "### Cache Invalidation\n",
    "When data is modified in DB, it should be invalidated in the Cache  \n",
    "Types:\n",
    "* Write through Cache - update cache first and than push to DB\n",
    "* Write around Cache - \n",
    "* Write back Cache - update DB directly & update the cache or delete the entry in cache if it exists and update the DB\n",
    "\n",
    "Issues:\n",
    "* Write through Cache - if multiple cache servers are there than data will be inconsistent\n",
    "* Write through - Thrashing\n",
    "\n",
    "Hybrid:\n",
    "* Update the cache on redis server1 and wait for sometime if it is not critical and than update DB in bulk. This will save network calls\n"
   ]
  },
  {
   "cell_type": "code",
   "execution_count": null,
   "metadata": {},
   "outputs": [],
   "source": []
  }
 ],
 "metadata": {
  "kernelspec": {
   "display_name": "Python 3",
   "language": "python",
   "name": "python3"
  },
  "language_info": {
   "codemirror_mode": {
    "name": "ipython",
    "version": 3
   },
   "file_extension": ".py",
   "mimetype": "text/x-python",
   "name": "python",
   "nbconvert_exporter": "python",
   "pygments_lexer": "ipython3",
   "version": "3.8.5"
  }
 },
 "nbformat": 4,
 "nbformat_minor": 4
}
