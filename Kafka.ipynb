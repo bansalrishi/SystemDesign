{
 "cells": [
  {
   "cell_type": "markdown",
   "metadata": {},
   "source": [
    "## Installing Kafka Windows\n",
    "1. Go to https://kafka.apache.org/downloads and in Binary Section select latest version. E.g: Scala 2.12\n",
    "2. It will open new page. Click on \"We suggest the following mirror site for your download:\"\n",
    "3. Download the .tgz file and extract it in C drive\n",
    "4. Add path C:\\kafka_2.12-2.8.0\\bin\\windows in environment variables\n",
    "5. Open new cmd and run \"kafka-topics.bat\""
   ]
  },
  {
   "cell_type": "markdown",
   "metadata": {},
   "source": [
    "## Configure Zookeeper and Kafka\n",
    "1. Go to kafka directory and create mydata/zookeeper and mydata/kafka\n",
    "2. Edit config/zookeeper.properties  \n",
    "\"dataDir=C:/kafka_2.12-2.8.0/mydata/zookeeper\"  \n",
    "3. run **\"C:\\kafka_2.12-2.8.0>zookeeper-server-start.bat config\\zookeeper.properties\"**    \n",
    "You will see msg \"INFO binding to port 0.0.0.0/0.0.0.0:2181 (org.apache.zookeeper.server.NIOServerCnxnFactory)\" if everything is fine\n",
    "4. Open new cmd prompt\n",
    "5. Edit config/server.properties  \n",
    "\"log.dirs=C:/kafka_2.12-2.8.0/mydata/kafka\"  \n",
    "6. run **\"C:\\kafka_2.12-2.8.0>kafka-server-start.bat config\\server.properties\"**    \n",
    "You will see msg \"[KafkaServer id=0] started (kafka.server.KafkaServer)\"\n",
    "7. Go to mydata/zookeeper - you should see version2 and mydata/kafka - bunch of files"
   ]
  },
  {
   "cell_type": "markdown",
   "metadata": {},
   "source": [
    "## Kafka Topics\n",
    "1. Create Topic  \n",
    "**#kafka-topics --zookeeper 127.0.0.1:2181 --topic hello_world --create --partitions 3 --replication-factor 1**  \n",
    "WARNING: Due to limitations in metric names, topics with a period ('.') or underscore ('_') could collide.To avoid issues it is best to use either, but not both.  \n",
    "Created topic hello_world.\n",
    "\n",
    "2. List Topic\n",
    "\n",
    "**#kafka-topics --zookeeper 127.0.0.1:2181 --list**\n",
    "\n",
    "3. Describe\n",
    "**#kafka-topics --zookeeper 127.0.0.1:2181 --topic hello_world --describe**    \n",
    "Topic: hello_world      TopicId: se9IAEqUToCHY6Qi8ZZPDw PartitionCount: 3       ReplicationFactor: 1    Configs:\n",
    "        Topic: hello_world      Partition: 0    Leader: 0       Replicas: 0     Isr: 0\n",
    "        Topic: hello_world      Partition: 1    Leader: 0       Replicas: 0     Isr: 0\n",
    "        Topic: hello_world      Partition: 2    Leader: 0       Replicas: 0     Isr: 0"
   ]
  },
  {
   "cell_type": "markdown",
   "metadata": {},
   "source": [
    "# Kafka Console Producer\n",
    "**#kafka-console-producer.bat --broker-list 127.0.0.1:9092 --topic hello_world**\n",
    ">hello world  \n",
    ">this is very beautiful  \n",
    ">i m enjoying it so much  \n",
    ">tta bbye  \n",
    ">Terminate batch job (Y/N)?  \n",
    "^C  \n"
   ]
  },
  {
   "cell_type": "markdown",
   "metadata": {},
   "source": [
    "**#kafka-console-producer.bat --broker-list 127.0.0.1:9092 --topic hello_world --producer-property acks=all**\n",
    ">testing acknowledgement  \n",
    ">message 1  \n",
    ">message 2  \n",
    ">Terminate batch job (Y/N)?  \n",
    "^C  "
   ]
  },
  {
   "cell_type": "markdown",
   "metadata": {},
   "source": [
    "## Kafka Console Consumer\n",
    "**#kafka-console-consumer --bootstrap-server 127.0.0.1:9092 --topic hello_world**  \n",
    "nothing comes up as it intercepts only new messages  \n",
    "\n",
    "- run in another window  \n",
    "\n",
    "**#kafka-console-producer.bat --broker-list 127.0.0.1:9092 --topic hello_world**\n",
    ">hello world, 2  \n",
    ">this is very beautiful  , 2  \n",
    ">i m enjoying it so much  ,2  \n",
    ">tta bbye  \n",
    ">Terminate batch job (Y/N)?  \n",
    "^C  \n",
    "\n",
    "All of the above message will apppear on first window  "
   ]
  },
  {
   "cell_type": "markdown",
   "metadata": {},
   "source": [
    "**To print from beginning all the messages**  \n",
    "**#kafka-console-consumer --bootstrap-server 127.0.0.1:9092 --topic hello_world --from-beginning** \n",
    "- messages will not be in original order due to partitioning  \n",
    "\n",
    "- now create two consumer group, in separate cmd prompt    \n",
    "\n",
    "**#kafka-console-consumer --bootstrap-server 127.0.0.1:9092 --topic hello_world --group hello_application**   \n",
    "**#kafka-console-consumer --bootstrap-server 127.0.0.1:9092 --topic hello_world --group hello_application** \n",
    "\n",
    "- this will create two consumer group. If you send message from producer it will appear in one of the consumer window\n",
    "- if we use --from-beginning it will show all messages from starting in the consumer group. But if we run same command again it wont show messages which was already read before as it creates offset.\n"
   ]
  },
  {
   "cell_type": "markdown",
   "metadata": {},
   "source": [
    "## Kafka Consumer Groups\n",
    "**#C:\\Users\\RISHBANS>kafka-consumer-groups --bootstrap-server localhost:9092 --list**    \n",
    "hello_application  \n",
    "console-consumer-76969  \n",
    "\n",
    "- if we dont specify group, kafka creates group by itself, thats why console-consumer-76969  \n",
    "\n",
    "**#kafka-consumer-groups --bootstrap-server localhost:9092 --describe --group hello_application**  \n",
    "\n",
    "Consumer group 'hello_application' has no active members.\n",
    "\n",
    "GROUP             TOPIC           PARTITION  CURRENT-OFFSET  LOG-END-OFFSET  LAG             CONSUMER-ID     HOST            CLIENT-ID\n",
    "hello_application hello_world     1          4               4               0               -               -               -\n",
    "hello_application hello_world     2          1               1               0               -               -               -\n",
    "hello_application hello_world     0          4               4               0               -               -               -\n",
    "\n",
    "- reset offset from earliest  \n",
    "\n",
    "**#kafka-consumer-groups --bootstrap-server localhost:9092 --group hello_application --reset-offsets --to-earliest --execute --topic hello_world**    \n"
   ]
  },
  {
   "cell_type": "code",
   "execution_count": null,
   "metadata": {},
   "outputs": [],
   "source": []
  }
 ],
 "metadata": {
  "kernelspec": {
   "display_name": "Python 3",
   "language": "python",
   "name": "python3"
  },
  "language_info": {
   "codemirror_mode": {
    "name": "ipython",
    "version": 3
   },
   "file_extension": ".py",
   "mimetype": "text/x-python",
   "name": "python",
   "nbconvert_exporter": "python",
   "pygments_lexer": "ipython3",
   "version": "3.8.5"
  }
 },
 "nbformat": 4,
 "nbformat_minor": 4
}
