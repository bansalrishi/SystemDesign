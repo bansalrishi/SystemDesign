{
 "cells": [
  {
   "cell_type": "markdown",
   "metadata": {},
   "source": [
    "## Characteristics of Distributed Systems (SERAM)\n",
    "* Scalability\n",
    "* Efficiency\n",
    "* Reliability \n",
    "* Availability\n",
    "* Manageability\n"
   ]
  },
  {
   "cell_type": "markdown",
   "metadata": {},
   "source": [
    "## Load Balancers\n",
    "* one of the critical component of Distributed systems\n",
    "* spread traffic across various servers in the clusters to improve responsiveness, balance load, enhance availability of databases & applications,etc"
   ]
  },
  {
   "cell_type": "markdown",
   "metadata": {},
   "source": [
    "<img src=\"Image/Load_Balancer.JPG\" width=\"600\" />"
   ]
  },
  {
   "cell_type": "markdown",
   "metadata": {},
   "source": [
    "We can add LB at each layer of system to utilize full scalability and redundancy\n",
    "* User & Web Server\n",
    "* Webservers & internal server\n",
    "* Internal server - database"
   ]
  },
  {
   "cell_type": "markdown",
   "metadata": {},
   "source": [
    "<img src=\"Image/Load_Balancer_1.JPG\" width=\"800\" />"
   ]
  },
  {
   "cell_type": "markdown",
   "metadata": {},
   "source": [
    "### Types of Load balancers\n",
    "1. Hardware LB - Expensive\n",
    "2. Software LB - HA Proxy(Open Source LB)"
   ]
  },
  {
   "cell_type": "markdown",
   "metadata": {},
   "source": [
    "### Algorithms Load Balancing\n",
    "1. Round Robin\n",
    "2. Round Robin with Weighted Server\n",
    "3. Least Connections\n",
    "4. Least Response Time\n",
    "5. Source IP Hash\n",
    "6. URL Hash"
   ]
  },
  {
   "cell_type": "markdown",
   "metadata": {},
   "source": [
    "### Benefits of Load Balancers\n",
    "* Quick Response\n",
    "* Less Downtime and Higher Throughput\n"
   ]
  },
  {
   "cell_type": "markdown",
   "metadata": {},
   "source": [
    "## Cache\n",
    "* Principle: Recently requested data is likely to be requested again\n",
    "* Short Term Memory, limited space, faster & contains mostly recently accessed items\n",
    "* can be added almost in every layer like OS, Web, hardware, browser, web app"
   ]
  },
  {
   "cell_type": "markdown",
   "metadata": {},
   "source": [
    "### Types of Cache\n",
    "1. Application Server Cache\n",
    "2. Distributed Cache - Consistent Hashing\n",
    "3. Global Cache\n",
    "4. CDN - Content Distributed Network\n",
    " - serving from large amount of static media which is common to all"
   ]
  },
  {
   "cell_type": "markdown",
   "metadata": {},
   "source": [
    "### Cache Invalidation\n",
    "When data is modified in DB, it should be invalidated in the Cache  \n",
    "Types:\n",
    "* Write through Cache\n",
    "* Write around Cache\n",
    "* Write back Cache"
   ]
  },
  {
   "cell_type": "markdown",
   "metadata": {},
   "source": [
    "## Sharding/Data Partitioning\n",
    "* break big Database into many smaller parts (e.g: Slicing Pizza among six people)\n",
    "* this improves manageability, performance, availability and load balancing of application\n",
    "* after certain limit its cheaper to add more machines than by augmenting resource to existing machine"
   ]
  },
  {
   "cell_type": "markdown",
   "metadata": {},
   "source": [
    "#### Sharding - Partitioning Methods\n",
    "1. Horizontal Partitioning\n",
    "2. Vertical Partitioning\n",
    "3. Directory Based Partitioning"
   ]
  },
  {
   "cell_type": "markdown",
   "metadata": {},
   "source": [
    "#### Sharding - Partitioning Criteria\n",
    "* List Partitioning\n",
    "* Key or Hash Based Partitioning\n",
    "* Composite Partitioning\n",
    "* Round Robin Partitioning"
   ]
  },
  {
   "cell_type": "markdown",
   "metadata": {},
   "source": [
    "#### Sharding - Issues\n",
    "* Referential Integrity\n",
    "* Joins and De-normalization\n",
    "* Rebalancing\n"
   ]
  },
  {
   "cell_type": "markdown",
   "metadata": {},
   "source": [
    "## Indexes\n",
    "* indexing in database make searching faster\n",
    "* can be created using one or more columns of a database table\n",
    "* increases data retrieval\n",
    "* decreases write performance (insert, delete , update)"
   ]
  },
  {
   "cell_type": "markdown",
   "metadata": {},
   "source": [
    "## Proxies\n",
    "* intermediate server between client and the back-end server\n",
    "* piece of software or hardware that acts as an intermediary for requests from clients seeking resources from other servers\n",
    "* used to filter requests, log requests, or sometimes transform requests (by adding/removing headers, encrypting/decrypting, or compressing a resource)\n",
    "* its cache can serve a lot of requests\n"
   ]
  },
  {
   "cell_type": "markdown",
   "metadata": {},
   "source": [
    "<img src=\"Image/Proxies.JPG\" width=\"600\" />"
   ]
  },
  {
   "cell_type": "markdown",
   "metadata": {},
   "source": [
    "#### Proxies - Types\n",
    "1. Open Proxy - accessible by any internet users  \n",
    " * Anonymous Proxy - reveals its identity as servers but does not disclose the initial IP address\n",
    " * Transparent Proxy - able to cache websites\n",
    "2. Reverse Proxy \n",
    "*  retrieve resources from servers on behalf of client and return to client as it originated from proxy itself\n"
   ]
  },
  {
   "cell_type": "markdown",
   "metadata": {},
   "source": [
    "## Redundancy\n",
    "* duplication of critical components or functions of a system to increase the reliability of the system\n",
    "* removes single point of failure\n"
   ]
  },
  {
   "cell_type": "markdown",
   "metadata": {},
   "source": [
    "## Replication\n",
    "* sharing information to ensure consistency between redundant resources\n",
    "* improves reliability, fault-tolerance, or accessibility\n",
    "* get used in DBMS(master-slave)\n",
    "* master get all updates and send to slave, slave confirms by message that it has received the update "
   ]
  },
  {
   "cell_type": "markdown",
   "metadata": {},
   "source": [
    "## SQL\n",
    "* Relational databases are structured\n",
    "* have predefined schemas like phone books\n",
    "* E.g: MySQL, Oracle, MS SQL Server, SQLite, Postgres, and MariaDB"
   ]
  },
  {
   "cell_type": "markdown",
   "metadata": {},
   "source": [
    "## No-SQL\n",
    "* Non-relational databases are unstructured, distributed\n",
    "*  have a dynamic schema like file folders that hold everything from a person’s address and phone number to their Facebook ‘likes’ and online shopping preferences\n"
   ]
  },
  {
   "cell_type": "markdown",
   "metadata": {},
   "source": [
    "**1. Document Databases**\n",
    "* Data is stored in documents and these documents are grouped together in collections\n",
    "*  Each document can have an entirely different structure\n",
    "* E.g: CouchDB and MongoDB  \n",
    "\n",
    "**2. Wide Column Databases**\n",
    "* don’t need to know all the columns up front\n",
    "* each row doesn’t have to have the same number of columns\n",
    "* best suited for analyzing large datasets\n",
    "* E.g: Cassandra and HBase\n",
    "\n",
    "**3. Graph Database**\n",
    "* used to store data whose relations are best represented in a graph\n",
    "* Data is saved in graph structures with nodes (entities), properties (information about the entities), and lines (connections between the entities)\n",
    "* E.g: Neo4J and InfiniteGraph\n",
    "\n",
    "**4. Key Value Stores**\n",
    "* Data is stored in an array of key-value pairs\n",
    "* Well-known key-value stores include Redis, Voldemort, and Dynamo"
   ]
  },
  {
   "cell_type": "markdown",
   "metadata": {},
   "source": [
    "**High level differences between SQL and NoSQL**\n",
    "* Storage\n",
    "* Schema\n",
    "* Quering\n",
    "* Scalability\n",
    "* Reliability or ACID Compliancy (Atomicity, Consistency, Isolation,Durability)\n",
    "* SQL are ACID compliant\n",
    "* NoSQL are not ACID compliant due to performance and scalability\n"
   ]
  },
  {
   "cell_type": "code",
   "execution_count": null,
   "metadata": {},
   "outputs": [],
   "source": []
  }
 ],
 "metadata": {
  "kernelspec": {
   "display_name": "Python 3",
   "language": "python",
   "name": "python3"
  },
  "language_info": {
   "codemirror_mode": {
    "name": "ipython",
    "version": 3
   },
   "file_extension": ".py",
   "mimetype": "text/x-python",
   "name": "python",
   "nbconvert_exporter": "python",
   "pygments_lexer": "ipython3",
   "version": "3.8.5"
  }
 },
 "nbformat": 4,
 "nbformat_minor": 4
}
