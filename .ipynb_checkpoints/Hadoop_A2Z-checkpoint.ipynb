{
 "cells": [
  {
   "cell_type": "markdown",
   "metadata": {},
   "source": [
    "Challenges with RDBMS\n",
    "- As data grows it becomes slow\n",
    "- Expensive\n",
    "\n",
    "ETL (Extract, Transform, Load) and Data Warehouse\n",
    "- These tools transfer data in various formats to Data warehouse for Analytics and Reporting purpose\n",
    "- Teradata is leading vendor for Data Warehouse Solution\n",
    "- Can't use analytics in Data Warehouse real time (e.g: suggest a product to a customer who is buying a certain product)\n",
    "- ETL - BODS(SAP Labs)\n",
    "\n",
    "Hadoop\n",
    "- Platform which takes the space of Data Warehouse\n",
    "- Instead of ETL we use different product to read different kind of data type (e.g: SQL data, xml, json, logs, etc)\n",
    "- Apache Sqoop we use to read SQL \n",
    "- Open Source - Cloudera, Hortonworks , MapR & Amazon Elastic MapReduce are major Provider\n",
    "- User can connect through a Gateway or Hadoop Client, no direct access to Hadoop cluster\n",
    "- Its having NodeName (Master) and DataName(Slave). Slaves are on cheap hardware\n",
    "- Default lock size is 128MB\n",
    "- ELT\n",
    "    - Extraction - For Strcutured Data (oracle, mysql) - Sqoop\n",
    "    - Apache Flume - For UnStructured Data (xml, json, flat file) - point-to-point data delivery tool, dont save any data\n",
    "    - Apache Kafka - can take data from Flume as Kafka producer should be present on source to get data, for Flume no such requirement\n",
    "- UnStructured Data -> Flume -> Kafka -> (HDFS for storage, Spark Streaming for real time processing)\n",
    "- Spark Streaming/Flink/Storm\n",
    "    \n",
    "- Direct copy from oracle DB not allowed\n",
    "    - Oracle Golder Gate (Change Data Capture, CDC) - Capture data from replica logs, it provides changes in the data\n",
    "- MapReduce/Pig/HIVE/Spark for batch processing data in HDFS\n",
    "- Hive - sql query converts to program for MapReduce\n",
    "- IMPALA/HAWQ,LLAP/PRESTO/DRILL/PHOENIX - for small query, in memory - can fail if its running on a server which goes off\n",
    "- Hive - query wont fail if any server goes off\n",
    "- HBase is a Database on HDFS - random read/write DB - own language\n",
    "- Phoenix - sql queries can be run, put on top of Hbase\n",
    "\n",
    "<img src=\"Image/hadoop.JPG\" width=\"600\" />"
   ]
  },
  {
   "cell_type": "markdown",
   "metadata": {},
   "source": [
    "- Pig(Yahoo) and Hive(Facebook)\n",
    "- Hive convert Sql Queries to MapReduce Code\n",
    "- Hive is like Database of HDFS, Spark can also talk to Hive\n",
    "- Tez on Hortonworks same like Hive but Hive is very slow as it uses MapReduce\n",
    "- IMPALA is on Cloudera\n"
   ]
  },
  {
   "cell_type": "markdown",
   "metadata": {},
   "source": [
    "## Hive\n",
    "- provides SQL like interface to Hadoop\n",
    "- dont have storage\n",
    "- project a structure to Data which is in Hadoop\n",
    "- can read different kind of data e.g: xml, json, etc\n",
    "- convert sql query into MapReduce code\n",
    "- Hadoop dont understand what is Hive\n",
    "- its a Dataware House\n",
    "- HQL - Hive Query Language\n",
    "- Hive is not a database\n",
    "- take minutes even for small queries\n",
    "- doesnt provide real time queries and row level updates\n",
    "- not suitable for Online Transaction Processing(OTP) systems"
   ]
  }
 ],
 "metadata": {
  "kernelspec": {
   "display_name": "Python 3",
   "language": "python",
   "name": "python3"
  },
  "language_info": {
   "codemirror_mode": {
    "name": "ipython",
    "version": 3
   },
   "file_extension": ".py",
   "mimetype": "text/x-python",
   "name": "python",
   "nbconvert_exporter": "python",
   "pygments_lexer": "ipython3",
   "version": "3.8.5"
  }
 },
 "nbformat": 4,
 "nbformat_minor": 4
}
