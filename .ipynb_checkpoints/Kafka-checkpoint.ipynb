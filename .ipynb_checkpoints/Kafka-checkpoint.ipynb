{
 "cells": [
  {
   "cell_type": "markdown",
   "metadata": {},
   "source": [
    "## Installing Kafka Windows\n",
    "1. Go to https://kafka.apache.org/downloads and in Binary Section select latest version. E.g: Scala 2.12\n",
    "2. It will open new page. Click on \"We suggest the following mirror site for your download:\"\n",
    "3. Download the .tgz file and extract it in C drive\n",
    "4. Add path C:\\kafka_2.12-2.8.0\\bin\\windows in environment variables\n",
    "5. Open new cmd and run \"kafka-topics.bat\""
   ]
  },
  {
   "cell_type": "markdown",
   "metadata": {},
   "source": [
    "## Configure Zookeeper and Kafka\n",
    "1. Go to kafka directory and create mydata/zookeeper and mydata/kafka\n",
    "2. Edit config/zookeeper.properties  \n",
    "\"dataDir=C:/kafka_2.12-2.8.0/mydata/zookeeper\"  \n",
    "3. run **\"C:\\kafka_2.12-2.8.0>zookeeper-server-start.bat config\\zookeeper.properties\"**    \n",
    "You will see msg \"INFO binding to port 0.0.0.0/0.0.0.0:2181 (org.apache.zookeeper.server.NIOServerCnxnFactory)\" if everything is fine\n",
    "4. Open new cmd prompt\n",
    "5. Edit config/server.properties  \n",
    "\"log.dirs=C:/kafka_2.12-2.8.0/mydata/kafka\"  \n",
    "6. run **\"C:\\kafka_2.12-2.8.0>kafka-server-start.bat config\\zookeeper.properties\"**    \n",
    "You will see msg \"[KafkaServer id=0] started (kafka.server.KafkaServer)\"\n",
    "7. Go to mydata/zookeeper - you should see version2 and mydata/kafka - bunch of files"
   ]
  },
  {
   "cell_type": "code",
   "execution_count": null,
   "metadata": {},
   "outputs": [],
   "source": []
  }
 ],
 "metadata": {
  "kernelspec": {
   "display_name": "Python 3",
   "language": "python",
   "name": "python3"
  },
  "language_info": {
   "codemirror_mode": {
    "name": "ipython",
    "version": 3
   },
   "file_extension": ".py",
   "mimetype": "text/x-python",
   "name": "python",
   "nbconvert_exporter": "python",
   "pygments_lexer": "ipython3",
   "version": "3.8.5"
  }
 },
 "nbformat": 4,
 "nbformat_minor": 4
}
