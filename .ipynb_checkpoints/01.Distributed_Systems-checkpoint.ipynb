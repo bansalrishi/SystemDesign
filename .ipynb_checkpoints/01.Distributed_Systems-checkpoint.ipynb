{
 "cells": [
  {
   "cell_type": "markdown",
   "metadata": {},
   "source": [
    "## Characteristics of Distributed Systems (SERAM)\n",
    "* Scalability\n",
    "* Efficiency\n",
    "* Reliability \n",
    "* Availability\n",
    "* Manageability\n"
   ]
  },
  {
   "cell_type": "markdown",
   "metadata": {},
   "source": [
    "## Load Balancers\n",
    "* one of the critical component of Distributed systems\n",
    "* spread traffic across various servers in the clusters to improve responsiveness, balance load, enhance availability of databases & applications,etc"
   ]
  },
  {
   "cell_type": "markdown",
   "metadata": {},
   "source": [
    "<img src=\"Image/Load_Balancer.JPG\" width=\"600\" />"
   ]
  },
  {
   "cell_type": "markdown",
   "metadata": {},
   "source": [
    "We can add LB at each laer of system to utilize full scalability and redundancy\n",
    "* User & Web Server\n",
    "* Webservers & internal server\n",
    "* Internal server - database"
   ]
  },
  {
   "cell_type": "markdown",
   "metadata": {},
   "source": [
    "<img src=\"Image/Load_Balancer_1.JPG\" width=\"800\" />"
   ]
  },
  {
   "cell_type": "markdown",
   "metadata": {},
   "source": [
    "### Types of Load balancers\n",
    "1. Hardware LB - Expensive\n",
    "2. Software LB - HA Proxy(Open Source LB)"
   ]
  },
  {
   "cell_type": "markdown",
   "metadata": {},
   "source": [
    "### Algorithms Load Balancing\n",
    "1. Round Robin\n",
    "2. Round Robin with Weighted Server\n",
    "3. Least Connections\n",
    "4. Least Response Time\n",
    "5. Source IP Hash\n",
    "6. URL Hash"
   ]
  },
  {
   "cell_type": "markdown",
   "metadata": {},
   "source": [
    "### Benefits of Load Balancers\n",
    "* Quick Response\n",
    "* Less Downtime and Higher Throughput\n"
   ]
  },
  {
   "cell_type": "markdown",
   "metadata": {},
   "source": [
    "## Cache\n"
   ]
  },
  {
   "cell_type": "code",
   "execution_count": null,
   "metadata": {},
   "outputs": [],
   "source": []
  }
 ],
 "metadata": {
  "kernelspec": {
   "display_name": "Python 3",
   "language": "python",
   "name": "python3"
  },
  "language_info": {
   "codemirror_mode": {
    "name": "ipython",
    "version": 3
   },
   "file_extension": ".py",
   "mimetype": "text/x-python",
   "name": "python",
   "nbconvert_exporter": "python",
   "pygments_lexer": "ipython3",
   "version": "3.8.5"
  }
 },
 "nbformat": 4,
 "nbformat_minor": 4
}
