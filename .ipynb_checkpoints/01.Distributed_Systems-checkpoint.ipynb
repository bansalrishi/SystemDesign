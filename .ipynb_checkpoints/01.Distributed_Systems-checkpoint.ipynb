{
 "cells": [
  {
   "cell_type": "markdown",
   "metadata": {},
   "source": [
    "## Characteristics of Distributed Systems (SERAM)\n",
    "* Scalability\n",
    "* Efficiency\n",
    "* Reliability \n",
    "* Availability\n",
    "* Manageability\n"
   ]
  },
  {
   "cell_type": "markdown",
   "metadata": {},
   "source": [
    "## Scalability\n",
    "- Reason - inc data volume or inc work/transaction\n",
    "- scale without performance loss\n",
    "- performance decline due to management or environment cost. e.g: network speed, some task may not be distributed   \n",
    "\n",
    "**Horizontal scaling and Vertical Scaling**\n",
    "- Horizontal Scaling - adding more servers\n",
    "- Easy to add\n",
    "- E.g: Cassandra, MongoDB\n",
    "\n",
    "- Vertical Scaling - adding more power e.g: CPU, RAM, Storage, etc\n",
    "- limitation due to capacity of a single server\n",
    "- E.g: MySql (often downtime may be required)\n"
   ]
  },
  {
   "cell_type": "markdown",
   "metadata": {},
   "source": [
    "# Reliability\n",
    "- probability a system will fail in a given period\n",
    "- distributed system is reliable if it keep on delivering its services even when one or more of its software or hardware component fails\n",
    "- achieve resilience for services by removing every single point of failure\n",
    "- cost is associated with redundancy"
   ]
  },
  {
   "cell_type": "markdown",
   "metadata": {},
   "source": [
    "# Availability\n",
    "- time a system remains operational to perform its required function in a specific period\n",
    "- takes into account maintainability, repair time, spares availability, etc\n",
    "- Reliability is availability over time considering every possible real Word conditions that can occur\n",
    "- An Aircraft is more reliable if it can make through possible weather safely than one that has vulnerability to possible conditions\n"
   ]
  },
  {
   "cell_type": "markdown",
   "metadata": {},
   "source": [
    "**Reliability vs Availability**\n",
    "- a system reliable system is available\n",
    "- an available system not necessary reliable\n",
    "- Possible to achieve high availability even with unreliable product by minimising repair time\n",
    "- E.g: A system was launched without Information Security Testing, Users were happy as they didnt realize it is vulnerable to risks. After some time there were security breaches and system was less available for extended period of time"
   ]
  },
  {
   "cell_type": "markdown",
   "metadata": {},
   "source": [
    "# Efficiency\n",
    "- Two Standard Measures - Response Time(Latency) and Throughput(Bandwidth)\n",
    "- Response Time - delay to obtain the first item\n",
    "- Throughput - number of items delivered in a given time unit"
   ]
  },
  {
   "cell_type": "markdown",
   "metadata": {},
   "source": [
    "# Serviceability or Manageability\n",
    "- easiness to operate and maintain\n",
    "- simplicity and speed with which a system can be repaired/maintained\n",
    "- If time to repair increases -> availability decreases\n",
    "- Factors - ease of diagnosing and undertand problem when they occur, ease of making updates or modifications, how simple is to operate the system\n",
    "- early detection of faults can decrease or avoid system downtime\n",
    "- e.g: System notifying automatically of the failure to call centre"
   ]
  },
  {
   "cell_type": "markdown",
   "metadata": {},
   "source": [
    "**Pizza Shop Example**\n",
    "1. \n"
   ]
  },
  {
   "cell_type": "markdown",
   "metadata": {},
   "source": [
    "## Load Balancers\n",
    "* one of the critical component of Distributed systems\n",
    "* spread traffic across various servers in the clusters to improve responsiveness, balance load, enhance availability of databases & applications,etc\n",
    "* keep track of status of all resources while distributing the requests"
   ]
  },
  {
   "cell_type": "markdown",
   "metadata": {},
   "source": [
    "<img src=\"Image/Load_Balancer.JPG\" width=\"600\" />"
   ]
  },
  {
   "cell_type": "markdown",
   "metadata": {},
   "source": [
    "We can add LB at each layer of system to utilize full scalability and redundancy\n",
    "* User & Web Server\n",
    "* Webservers & internal platform layer (application server or cache server)\n",
    "* Internal platform layer & database"
   ]
  },
  {
   "cell_type": "markdown",
   "metadata": {},
   "source": [
    "<img src=\"Image/Load_Balancer_1.JPG\" width=\"800\" />"
   ]
  },
  {
   "cell_type": "markdown",
   "metadata": {},
   "source": [
    "# Benefits\n",
    "* fast user experience, uninterrupted service\n",
    "* less downtime and higher throughput\n",
    "* decrease wait time for users\n",
    "* smart load balancers - use predictive analytics that determine traffic bottlenecks before they happen\n"
   ]
  },
  {
   "cell_type": "markdown",
   "metadata": {},
   "source": [
    "### Types of Load balancers\n",
    "1. Hardware LB - Expensive\n",
    "2. Software LB - HA Proxy(Open Source LB)"
   ]
  },
  {
   "cell_type": "markdown",
   "metadata": {},
   "source": [
    "### Algorithms Load Balancing\n",
    "1. Round Robin - same server configuration and not many persistent connections\n",
    "2. Round Robin with Weighted Server - server with different processing power\n",
    "3. Least Connections - useful when large no. of persistent connections\n",
    "4. Least Response Time - fewest active connections and lowest average response time\n",
    "5. Source IP Hash\n",
    "6. URL Hash\n",
    "7. Least Bandwidth Method - serving least amount of traffic measured in megabits per second(Mbps)"
   ]
  },
  {
   "cell_type": "markdown",
   "metadata": {},
   "source": [
    "### Redundant Load Balancers\n",
    "* load balancer can be single point of failure\n",
    "* a second LB can be connected to first to form cluster and monitor each other\n",
    "* both are equally capable\n"
   ]
  },
  {
   "cell_type": "markdown",
   "metadata": {},
   "source": [
    "## Cache\n",
    "* Principle: Recently requested data is likely to be requested again\n",
    "* Short Term Memory, limited space, faster & contains mostly recently accessed items\n",
    "* can be added almost in every layer like OS, Web, hardware, browser, web app"
   ]
  },
  {
   "cell_type": "markdown",
   "metadata": {},
   "source": [
    "### Types of Cache\n",
    "1. **Application Server Cache**\n",
    "- cache on a request layer node enables the local storage of response data\n",
    "- If applciation is on many nodes, than each node has its own cache\n",
    "- as load balancer sends requests randomly to different nodes - increasing cache misses\n",
    "- two option to overcome this - Distributed and Global Cache\n",
    "2. **Distributed Cache** - Consistent Hashing\n",
    "3. **Global Cache**\n",
    "4. **CDN - Content Distributed Network**\n",
    " - serving from large amount of static media which is common to all\n",
    " - Request will first ask CDM for a piece of static media\n",
    " - CDN will serve if it has locally otherwise it will query back-end servers, cache it locally and serve the information to the request\n",
    " "
   ]
  },
  {
   "cell_type": "markdown",
   "metadata": {},
   "source": [
    "### Cache Invalidation\n",
    "* When data is modified in DB, it should be invalidated in the Cache \n",
    "* if data is not invalidated, it can cause inconsistent app behaviour\n",
    "\n",
    "Types:\n",
    "1. **Write through Cache**\n",
    "- Data is written into Cache and database at same time\n",
    "- complete data consistency\n",
    "- ensures nothing get lost\n",
    "- every write operation need to be done twise before returning success to the client\n",
    "- disadvantage of higher latency for write operations\n",
    "\n",
    "2. **Write around Cache**  \n",
    "- Similar to Write through Cache but data is written directly to permanent storage, bypassing Cache\n",
    "- reduce flooding of write operation at the Cache\n",
    "- Disadv - a read request for recently written data will create cache miss and must be read from slower backend storage resulting in higher latency\n",
    "\n",
    "3. **Write back Cache**\n",
    "- data is written to cache alone and completion is confirmed to client\n",
    "- write to permanent storage is done after specified interval or under certain condition\n",
    "- results in lower latency and high throughput for write intensive app\n",
    "- risk of data loss in case of crash as cache only holds the copy\n"
   ]
  },
  {
   "cell_type": "markdown",
   "metadata": {},
   "source": [
    "# Cache Eviction Policies\n",
    "1. FIFO\n",
    "2. LIFO\n",
    "3. Least Recently Used\n",
    "4. Most Recently Used\n",
    "5. Least Frequently Used\n",
    "6. Random Replacement"
   ]
  },
  {
   "cell_type": "markdown",
   "metadata": {},
   "source": [
    "## Sharding/Data Partitioning\n",
    "* break big Database into many smaller parts (e.g: Slicing Pizza among six people)\n",
    "* this improves manageability, performance, availability and load balancing of application\n",
    "* after certain limit its cheaper to add more machines than by augmenting resource to existing machine"
   ]
  },
  {
   "cell_type": "markdown",
   "metadata": {},
   "source": [
    "#### Sharding - Partitioning Methods\n",
    "1. **Horizontal Partitioning**\n",
    "- put different rows into different tables\n",
    "- e.g: locations with ZIP codes less than 10000 are stored in one and greater are stored in another - range based Sharding\n",
    "- Issue - Range Based Sharding - improper selection of range leads to unbalanced servers\n",
    "2. **Vertical Partitioning**\n",
    "- divide data to store tables for feature on their respective server\n",
    "- easy to implement and low impact on application\n",
    "- additional growth of application require partition of feature specific DB across various servers\n",
    "3. **Directory Based Partitioning**"
   ]
  },
  {
   "cell_type": "markdown",
   "metadata": {},
   "source": [
    "#### Sharding - Partitioning Criteria\n",
    "* List Partitioning\n",
    "* Key or Hash Based Partitioning\n",
    "* Composite Partitioning\n",
    "* Round Robin Partitioning"
   ]
  },
  {
   "cell_type": "markdown",
   "metadata": {},
   "source": [
    "#### Sharding - Issues\n",
    "* Referential Integrity\n",
    "* Joins and De-normalization\n",
    "* Rebalancing\n"
   ]
  },
  {
   "cell_type": "markdown",
   "metadata": {},
   "source": [
    "## Indexes\n",
    "* indexing in database make searching faster\n",
    "* can be created using one or more columns of a database table\n",
    "* increases data retrieval\n",
    "* decreases write performance (insert, delete , update)"
   ]
  },
  {
   "cell_type": "markdown",
   "metadata": {},
   "source": [
    "## Proxies\n",
    "* intermediate server between client and the back-end server\n",
    "* piece of software or hardware that acts as an intermediary for requests from clients seeking resources from other servers\n",
    "* used to filter requests, log requests, or sometimes transform requests (by adding/removing headers, encrypting/decrypting, or compressing a resource)\n",
    "* its cache can serve a lot of requests\n"
   ]
  },
  {
   "cell_type": "markdown",
   "metadata": {},
   "source": [
    "<img src=\"Image/Proxies.JPG\" width=\"600\" />"
   ]
  },
  {
   "cell_type": "markdown",
   "metadata": {},
   "source": [
    "#### Proxies - Types\n",
    "1. Open Proxy - accessible by any internet users  \n",
    " * Anonymous Proxy - reveals its identity as servers but does not disclose the initial IP address\n",
    " * Transparent Proxy - able to cache websites\n",
    "2. Reverse Proxy \n",
    "*  retrieve resources from servers on behalf of client and return to client as it originated from proxy itself\n"
   ]
  },
  {
   "cell_type": "markdown",
   "metadata": {},
   "source": [
    "## Redundancy\n",
    "* duplication of critical components or functions of a system to increase the reliability of the system\n",
    "* removes single point of failure\n"
   ]
  },
  {
   "cell_type": "markdown",
   "metadata": {},
   "source": [
    "## Replication\n",
    "* sharing information to ensure consistency between redundant resources\n",
    "* improves reliability, fault-tolerance, or accessibility\n",
    "* get used in DBMS(master-slave)\n",
    "* master get all updates and send to slave, slave confirms by message that it has received the update "
   ]
  },
  {
   "cell_type": "markdown",
   "metadata": {},
   "source": [
    "## SQL\n",
    "* Relational databases are structured\n",
    "* have predefined schemas like phone books\n",
    "* E.g: MySQL, Oracle, MS SQL Server, SQLite, Postgres, and MariaDB"
   ]
  },
  {
   "cell_type": "markdown",
   "metadata": {},
   "source": [
    "## No-SQL\n",
    "* Non-relational databases are unstructured, distributed\n",
    "*  have a dynamic schema like file folders that hold everything from a person’s address and phone number to their Facebook ‘likes’ and online shopping preferences\n"
   ]
  },
  {
   "cell_type": "markdown",
   "metadata": {},
   "source": [
    "**1. Document Databases**\n",
    "* Data is stored in documents and these documents are grouped together in collections\n",
    "*  Each document can have an entirely different structure\n",
    "* E.g: CouchDB and MongoDB  \n",
    "\n",
    "**2. Wide Column Databases**\n",
    "* don’t need to know all the columns up front\n",
    "* each row doesn’t have to have the same number of columns\n",
    "* best suited for analyzing large datasets\n",
    "* E.g: Cassandra and HBase\n",
    "\n",
    "**3. Graph Database**\n",
    "* used to store data whose relations are best represented in a graph\n",
    "* Data is saved in graph structures with nodes (entities), properties (information about the entities), and lines (connections between the entities)\n",
    "* E.g: Neo4J and InfiniteGraph\n",
    "\n",
    "**4. Key Value Stores**\n",
    "* Data is stored in an array of key-value pairs\n",
    "* Well-known key-value stores include Redis, Voldemort, and Dynamo"
   ]
  },
  {
   "cell_type": "markdown",
   "metadata": {},
   "source": [
    "**High level differences between SQL and NoSQL**\n",
    "* Storage\n",
    "* Schema\n",
    "* Quering\n",
    "* Scalability\n",
    "* Reliability or ACID Compliancy (Atomicity, Consistency, Isolation,Durability)\n",
    "* SQL are ACID compliant\n",
    "* NoSQL are not ACID compliant due to performance and scalability\n"
   ]
  },
  {
   "cell_type": "code",
   "execution_count": null,
   "metadata": {},
   "outputs": [],
   "source": []
  }
 ],
 "metadata": {
  "kernelspec": {
   "display_name": "Python 3",
   "language": "python",
   "name": "python3"
  },
  "language_info": {
   "codemirror_mode": {
    "name": "ipython",
    "version": 3
   },
   "file_extension": ".py",
   "mimetype": "text/x-python",
   "name": "python",
   "nbconvert_exporter": "python",
   "pygments_lexer": "ipython3",
   "version": "3.8.5"
  }
 },
 "nbformat": 4,
 "nbformat_minor": 4
}
