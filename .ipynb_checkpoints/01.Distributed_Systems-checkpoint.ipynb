{
 "cells": [
  {
   "cell_type": "markdown",
   "metadata": {},
   "source": [
    "## Characteristics of Distributed Systems (SERAM)\n",
    "* Scalability\n",
    "* Efficiency\n",
    "* Reliability \n",
    "* Availability\n",
    "* Manageability\n"
   ]
  },
  {
   "cell_type": "markdown",
   "metadata": {},
   "source": [
    "## Load Balancers\n",
    "* one of the critical component of Distributed systems\n",
    "* spread traffic across various servers in the clusters to improve responsiveness, balance load, enhance availability of databases & applications,etc"
   ]
  },
  {
   "cell_type": "markdown",
   "metadata": {},
   "source": [
    "<img src=\"Image/Load_Balancer.JPG\" width=\"600\" />"
   ]
  },
  {
   "cell_type": "markdown",
   "metadata": {},
   "source": [
    "We can add LB at each laer of system to utilize full scalability and redundancy\n",
    "* User & Web Server\n",
    "* Webservers & internal server\n",
    "* Internal server - database"
   ]
  },
  {
   "cell_type": "markdown",
   "metadata": {},
   "source": [
    "<img src=\"Image/Load_Balancer_1.JPG\" width=\"800\" />"
   ]
  },
  {
   "cell_type": "markdown",
   "metadata": {},
   "source": [
    "### Types of Load balancers\n",
    "1. Hardware LB - Expensive\n",
    "2. Software LB - HA Proxy(Open Source LB)"
   ]
  },
  {
   "cell_type": "markdown",
   "metadata": {},
   "source": [
    "### Algorithms Load Balancing\n",
    "1. Round Robin\n",
    "2. Round Robin with Weighted Server\n",
    "3. Least Connections\n",
    "4. Least Response Time\n",
    "5. Source IP Hash\n",
    "6. URL Hash"
   ]
  },
  {
   "cell_type": "markdown",
   "metadata": {},
   "source": [
    "### Benefits of Load Balancers\n",
    "* Quick Response\n",
    "* Less Downtime and Higher Throughput\n"
   ]
  },
  {
   "cell_type": "markdown",
   "metadata": {},
   "source": [
    "## Cache\n",
    "* Principle: Recently requested data is likely to be requested again\n",
    "* Short Term Memory, limited space, faster & contains mostly recently accessed items\n",
    "* can be added almost in every layer like OS, Web, hardware, browser, web app"
   ]
  },
  {
   "cell_type": "markdown",
   "metadata": {},
   "source": [
    "### Types of Cache\n",
    "1. Application Server Cache\n",
    "2. Distributed Cache - Consisten Hashing\n",
    "3. Global Cache\n",
    "4. CDN - Content Distributed Network\n",
    " - serving from large amount of static media which is common to all"
   ]
  },
  {
   "cell_type": "markdown",
   "metadata": {},
   "source": [
    "### Cache Invalidation\n",
    "When data is modified in DB, it should be invalidated in the Cache  \n",
    "Types:\n",
    "* Write through Cache\n",
    "* Write around Cache\n",
    "* Write back Cache"
   ]
  },
  {
   "attachments": {},
   "cell_type": "markdown",
   "metadata": {},
   "source": [
    "## Sharding/Data Partitioning\n",
    "* break big Database into many smaller parts\n",
    "* this improves manageability, performance, availability and load balancing of application\n",
    "* after certain limit its cheaper to add more machines than by augmenting resource to existing machine"
   ]
  },
  {
   "cell_type": "markdown",
   "metadata": {},
   "source": [
    "#### Sharding - Partitioning Methods\n",
    "1. Horizontal Partitioning\n",
    "2. Vertical Partitioning\n",
    "3. Directory Based Partitioning"
   ]
  },
  {
   "cell_type": "markdown",
   "metadata": {},
   "source": [
    "#### Sharding - Partitioning Criteria\n",
    "* List Partitioning\n",
    "* Key or Hash Based Partitioning\n",
    "* Composite Partitioning\n",
    "* Round Robin Partitioning"
   ]
  },
  {
   "cell_type": "markdown",
   "metadata": {},
   "source": [
    "#### Sharding - Issues\n",
    "* Referential Integrity\n",
    "* Joins and De-normalization\n",
    "* Rebalancing\n"
   ]
  },
  {
   "cell_type": "code",
   "execution_count": null,
   "metadata": {},
   "outputs": [],
   "source": []
  }
 ],
 "metadata": {
  "kernelspec": {
   "display_name": "Python 3",
   "language": "python",
   "name": "python3"
  },
  "language_info": {
   "codemirror_mode": {
    "name": "ipython",
    "version": 3
   },
   "file_extension": ".py",
   "mimetype": "text/x-python",
   "name": "python",
   "nbconvert_exporter": "python",
   "pygments_lexer": "ipython3",
   "version": "3.8.5"
  }
 },
 "nbformat": 4,
 "nbformat_minor": 4
}
