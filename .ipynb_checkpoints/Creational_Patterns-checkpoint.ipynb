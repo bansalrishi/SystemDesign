{
 "cells": [
  {
   "cell_type": "markdown",
   "id": "1b4e662e",
   "metadata": {},
   "source": [
    "## Factory Method Pattern:\n",
    "\n",
    "* Define an Interface (or Abstract Class): Create an interface or an abstract base class that declares a factory method (or methods). This factory method will be responsible for creating objects.\n",
    "\n",
    "* Concrete Implementations: Create concrete subclasses that inherit from the interface or abstract class. Each concrete subclass should implement the factory method to create objects of a specific type.\n",
    "\n",
    "* Client Code: The client code that needs to create objects should use the factory method defined in the interface or abstract class. This way, the client code doesn't need to know the specific classes of objects it's creating.\n",
    "\n",
    "Sample Code:"
   ]
  },
  {
   "cell_type": "code",
   "execution_count": 1,
   "id": "5e85c15c",
   "metadata": {},
   "outputs": [
    {
     "name": "stdout",
     "output_type": "stream",
     "text": [
      "Drawing a circle\n",
      "Drawing a rectangle\n"
     ]
    }
   ],
   "source": [
    "from abc import ABC, abstractmethod\n",
    "\n",
    "# Step 1: Define the interface (or abstract base class)\n",
    "class Shape(ABC):\n",
    "    @abstractmethod\n",
    "    def draw(self):\n",
    "        pass\n",
    "\n",
    "# Step 2: Create concrete implementations\n",
    "class Circle(Shape):\n",
    "    def draw(self):\n",
    "        print(\"Drawing a circle\")\n",
    "\n",
    "class Rectangle(Shape):\n",
    "    def draw(self):\n",
    "        print(\"Drawing a rectangle\")\n",
    "\n",
    "# Step 3: Client code\n",
    "def create_shape(shape_type):\n",
    "    if shape_type == \"circle\":\n",
    "        return Circle()\n",
    "    elif shape_type == \"rectangle\":\n",
    "        return Rectangle()\n",
    "    else:\n",
    "        raise ValueError(\"Invalid shape type\")\n",
    "\n",
    "# Client code can create objects without knowing the concrete classes\n",
    "circle = create_shape(\"circle\")\n",
    "rectangle = create_shape(\"rectangle\")\n",
    "\n",
    "circle.draw()     # Output: Drawing a circle\n",
    "rectangle.draw()  # Output: Drawing a rectangle\n"
   ]
  },
  {
   "cell_type": "markdown",
   "id": "8c4163c9",
   "metadata": {},
   "source": [
    "In this example, Shape is the interface (or abstract base class) with a factory method draw. Two concrete subclasses, Circle and Rectangle, implement this factory method to create objects of their respective types. The create_shape function in the client code uses the factory method to create objects without knowing the specific classes of shapes being created.\n",
    "\n",
    "The Factory Method Pattern is useful for creating objects in a flexible and extensible way, especially when you anticipate that the types of objects you need to create may change or expand in the future."
   ]
  },
  {
   "cell_type": "markdown",
   "id": "ce13d20e",
   "metadata": {},
   "source": [
    "## Abstract Factory Pattern (Kit Pattern)\n",
    "\n",
    "The Abstract Factory Pattern is a creational design pattern that provides an interface for creating families of related or dependent objects without specifying their concrete classes. It is also sometimes referred to as the Kit pattern.\n",
    "\n",
    "The main idea behind the Abstract Factory Pattern is to abstract the creation of objects and their interaction in such a way that the client code (code that uses these objects) is decoupled from the specific implementations of those objects. This pattern is particularly useful when you need to ensure that the created objects are compatible with each other or belong to the same family.\n",
    "\n",
    "\n",
    "\n",
    "* Abstract Factory: This is an interface or an abstract class that declares a set of factory methods, each of which is responsible for creating a family of related objects. The abstract factory provides an interface for creating these objects.\n",
    "\n",
    "* Concrete Factories: Concrete factory classes implement the abstract factory interface and provide concrete implementations of the factory methods. Each concrete factory is responsible for creating a specific family of related objects.\n",
    "\n",
    "* Abstract Products: These are interfaces or abstract classes that declare the common methods that all products (objects) within a family must implement. Each family of objects has its own set of abstract products.\n",
    "\n",
    "* Concrete Products: Concrete product classes implement the abstract product interfaces or inherit from the abstract product classes. These are the actual objects that are created by the concrete factories.\n",
    "\n",
    "* Client: The client code interacts with the abstract factory to create objects. It doesn't need to know the specific concrete classes of the objects; it relies on the abstract factory and abstract product interfaces."
   ]
  },
  {
   "cell_type": "code",
   "execution_count": 2,
   "id": "1f42b341",
   "metadata": {},
   "outputs": [
    {
     "name": "stdout",
     "output_type": "stream",
     "text": [
      "('Sitting on a modern chair', 'Relaxing on a modern sofa')\n",
      "('Sitting on a Victorian chair', 'Relaxing on a Victorian sofa')\n"
     ]
    }
   ],
   "source": [
    "from abc import ABC, abstractmethod\n",
    "\n",
    "# Abstract Product A\n",
    "class Chair(ABC):\n",
    "    @abstractmethod\n",
    "    def sit_on(self):\n",
    "        pass\n",
    "\n",
    "# Concrete Product A1\n",
    "class ModernChair(Chair):\n",
    "    def sit_on(self):\n",
    "        return \"Sitting on a modern chair\"\n",
    "\n",
    "# Concrete Product A2\n",
    "class VictorianChair(Chair):\n",
    "    def sit_on(self):\n",
    "        return \"Sitting on a Victorian chair\"\n",
    "\n",
    "# Abstract Product B\n",
    "class Sofa(ABC):\n",
    "    @abstractmethod\n",
    "    def relax_on(self):\n",
    "        pass\n",
    "\n",
    "# Concrete Product B1\n",
    "class ModernSofa(Sofa):\n",
    "    def relax_on(self):\n",
    "        return \"Relaxing on a modern sofa\"\n",
    "\n",
    "# Concrete Product B2\n",
    "class VictorianSofa(Sofa):\n",
    "    def relax_on(self):\n",
    "        return \"Relaxing on a Victorian sofa\"\n",
    "\n",
    "# Abstract Factory\n",
    "class FurnitureFactory(ABC):\n",
    "    @abstractmethod\n",
    "    def create_chair(self):\n",
    "        pass\n",
    "\n",
    "    @abstractmethod\n",
    "    def create_sofa(self):\n",
    "        pass\n",
    "\n",
    "# Concrete Factory 1\n",
    "class ModernFurnitureFactory(FurnitureFactory):\n",
    "    def create_chair(self):\n",
    "        return ModernChair()\n",
    "\n",
    "    def create_sofa(self):\n",
    "        return ModernSofa()\n",
    "\n",
    "# Concrete Factory 2\n",
    "class VictorianFurnitureFactory(FurnitureFactory):\n",
    "    def create_chair(self):\n",
    "        return VictorianChair()\n",
    "\n",
    "    def create_sofa(self):\n",
    "        return VictorianSofa()\n",
    "\n",
    "# Client code\n",
    "def order_furniture(factory):\n",
    "    chair = factory.create_chair()\n",
    "    sofa = factory.create_sofa()\n",
    "    return chair.sit_on(), sofa.relax_on()\n",
    "\n",
    "# Using the Abstract Factory\n",
    "modern_furniture = ModernFurnitureFactory()\n",
    "victorian_furniture = VictorianFurnitureFactory()\n",
    "\n",
    "print(order_furniture(modern_furniture))\n",
    "print(order_furniture(victorian_furniture))\n"
   ]
  },
  {
   "cell_type": "markdown",
   "id": "7d9837e2",
   "metadata": {},
   "source": [
    "In this example, there are two families of furniture: modern and Victorian. The Abstract Factory (FurnitureFactory) defines two factory methods, create_chair and create_sofa, for creating chairs and sofas. Concrete factories (ModernFurnitureFactory and VictorianFurnitureFactory) implement these methods to create specific products (modern or Victorian chairs and sofas).\n",
    "\n",
    "The client code (order_furniture) interacts with the abstract factory to create furniture objects without knowing the specific classes of those objects. This demonstrates how the Abstract Factory Pattern decouples the client code from the concrete implementations of the objects while ensuring that the created objects are compatible with each other within the same family (e.g., modern or Victorian furniture)."
   ]
  },
  {
   "cell_type": "code",
   "execution_count": null,
   "id": "099f6dfa",
   "metadata": {},
   "outputs": [],
   "source": []
  }
 ],
 "metadata": {
  "kernelspec": {
   "display_name": "Python 3",
   "language": "python",
   "name": "python3"
  },
  "language_info": {
   "codemirror_mode": {
    "name": "ipython",
    "version": 3
   },
   "file_extension": ".py",
   "mimetype": "text/x-python",
   "name": "python",
   "nbconvert_exporter": "python",
   "pygments_lexer": "ipython3",
   "version": "3.8.8"
  }
 },
 "nbformat": 4,
 "nbformat_minor": 5
}
